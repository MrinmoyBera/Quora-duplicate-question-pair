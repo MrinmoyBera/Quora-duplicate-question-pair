{
  "nbformat": 4,
  "nbformat_minor": 0,
  "metadata": {
    "colab": {
      "provenance": [],
      "gpuType": "V28"
    },
    "kernelspec": {
      "name": "python3",
      "display_name": "Python 3"
    },
    "language_info": {
      "name": "python"
    },
    "accelerator": "TPU"
  },
  "cells": [
    {
      "cell_type": "code",
      "source": [
        "!nvidia-smi"
      ],
      "metadata": {
        "colab": {
          "base_uri": "https://localhost:8080/"
        },
        "id": "HEuD2SdS4gxM",
        "outputId": "ffef7b90-d270-4c0e-a4b9-f90f0763ff02"
      },
      "execution_count": 1,
      "outputs": [
        {
          "output_type": "stream",
          "name": "stdout",
          "text": [
            "/bin/bash: line 1: nvidia-smi: command not found\n"
          ]
        }
      ]
    },
    {
      "cell_type": "code",
      "source": [
        "from google.colab import drive\n",
        "drive.mount('/content/drive/')"
      ],
      "metadata": {
        "colab": {
          "base_uri": "https://localhost:8080/"
        },
        "id": "WzCv3muNtnJM",
        "outputId": "e08dc67e-2839-49af-9e78-755fe704e344"
      },
      "execution_count": 2,
      "outputs": [
        {
          "output_type": "stream",
          "name": "stdout",
          "text": [
            "Mounted at /content/drive/\n"
          ]
        }
      ]
    },
    {
      "cell_type": "code",
      "source": [
        "!mkdir -p ~/.kaggle\n",
        "!cp kaggle.json ~/.kaggle/"
      ],
      "metadata": {
        "id": "t4ART9qR441c"
      },
      "execution_count": 3,
      "outputs": []
    },
    {
      "cell_type": "code",
      "source": [
        "!kaggle datasets download -d thanakomsn/glove6b300dtxt"
      ],
      "metadata": {
        "colab": {
          "base_uri": "https://localhost:8080/"
        },
        "id": "g76LHY805MiE",
        "outputId": "bb69f674-a83e-4eca-ddb2-1cd0b26d8c34"
      },
      "execution_count": 4,
      "outputs": [
        {
          "output_type": "stream",
          "name": "stdout",
          "text": [
            "Warning: Your Kaggle API key is readable by other users on this system! To fix this, you can run 'chmod 600 /root/.kaggle/kaggle.json'\n",
            "Dataset URL: https://www.kaggle.com/datasets/thanakomsn/glove6b300dtxt\n",
            "License(s): DbCL-1.0\n",
            "Downloading glove6b300dtxt.zip to /content\n",
            " 94% 361M/386M [00:02<00:00, 134MB/s]\n",
            "100% 386M/386M [00:02<00:00, 135MB/s]\n"
          ]
        }
      ]
    },
    {
      "cell_type": "code",
      "source": [
        "import zipfile\n",
        "zip_ref = zipfile.ZipFile('/content/glove6b300dtxt.zip', 'r')\n",
        "zip_ref.extractall('/content')\n",
        "zip_ref.close()"
      ],
      "metadata": {
        "id": "RMsqM2Qt5gs7"
      },
      "execution_count": 5,
      "outputs": []
    },
    {
      "cell_type": "markdown",
      "source": [
        "#Import some important libaries"
      ],
      "metadata": {
        "id": "A26rwcN47ZuR"
      }
    },
    {
      "cell_type": "code",
      "source": [
        "from keras.layers import Dense, Input, LSTM, Dropout, Bidirectional\n",
        "from keras.callbacks import EarlyStopping, ModelCheckpoint\n",
        "from keras.layers import BatchNormalization\n",
        "from keras.layers import Embedding\n",
        "from keras.callbacks import TensorBoard\n",
        "from keras.models import load_model\n",
        "from keras.models import Model\n",
        "from keras.utils import plot_model\n",
        "from keras.preprocessing.sequence import pad_sequences\n",
        "from keras.preprocessing.text import Tokenizer\n",
        "from keras.preprocessing import sequence\n",
        "from keras.preprocessing import text\n",
        "from keras.models import Sequential\n",
        "from keras.layers import Dense, Dropout, Activation\n",
        "from keras.layers import Embedding, LSTM, Bidirectional\n",
        "from keras.layers import Conv1D, Flatten\n",
        "from keras.preprocessing import text\n",
        "from keras.models import Sequential,Model\n",
        "from keras.layers import Dense ,Activation,MaxPool1D,Conv1D,Flatten,Dropout,Activation,Dropout,Input,Lambda,concatenate\n",
        "import csv\n",
        "import pandas as pd\n",
        "import numpy as np\n",
        "from keras.preprocessing import text as keras_text, sequence as keras_seq\n",
        "from operator import itemgetter\n",
        "import time\n",
        "import gc\n",
        "import os\n",
        "import re\n",
        "import matplotlib.pyplot as plt\n",
        "import matplotlib.image as mpimg"
      ],
      "metadata": {
        "id": "aGUGAt5AU4DA"
      },
      "execution_count": 6,
      "outputs": []
    },
    {
      "cell_type": "markdown",
      "source": [
        "#Reading Dataset"
      ],
      "metadata": {
        "id": "4fDGrwkX7rIi"
      }
    },
    {
      "cell_type": "code",
      "source": [
        "# Sample data\n",
        "new_df = pd.read_csv(\"/content/drive/MyDrive/Colab Notebooks/qura_question_pair.csv\")\n",
        "new_df.head()"
      ],
      "metadata": {
        "colab": {
          "base_uri": "https://localhost:8080/",
          "height": 206
        },
        "id": "-6lcjri8U80a",
        "outputId": "c04cc1c4-cd8e-4683-b2da-b8e077fd3e75"
      },
      "execution_count": 7,
      "outputs": [
        {
          "output_type": "execute_result",
          "data": {
            "text/plain": [
              "   id  qid1  qid2                                          question1  \\\n",
              "0   0     1     2  What is the step by step guide to invest in sh...   \n",
              "1   1     3     4  What is the story of Kohinoor (Koh-i-Noor) Dia...   \n",
              "2   2     5     6  How can I increase the speed of my internet co...   \n",
              "3   3     7     8  Why am I mentally very lonely? How can I solve...   \n",
              "4   4     9    10  Which one dissolve in water quikly sugar, salt...   \n",
              "\n",
              "                                           question2  is_duplicate  \n",
              "0  What is the step by step guide to invest in sh...             0  \n",
              "1  What would happen if the Indian government sto...             0  \n",
              "2  How can Internet speed be increased by hacking...             0  \n",
              "3  Find the remainder when [math]23^{24}[/math] i...             0  \n",
              "4            Which fish would survive in salt water?             0  "
            ],
            "text/html": [
              "\n",
              "  <div id=\"df-2bb6bfe6-2d8c-4333-972a-2d3e8bfa82a9\" class=\"colab-df-container\">\n",
              "    <div>\n",
              "<style scoped>\n",
              "    .dataframe tbody tr th:only-of-type {\n",
              "        vertical-align: middle;\n",
              "    }\n",
              "\n",
              "    .dataframe tbody tr th {\n",
              "        vertical-align: top;\n",
              "    }\n",
              "\n",
              "    .dataframe thead th {\n",
              "        text-align: right;\n",
              "    }\n",
              "</style>\n",
              "<table border=\"1\" class=\"dataframe\">\n",
              "  <thead>\n",
              "    <tr style=\"text-align: right;\">\n",
              "      <th></th>\n",
              "      <th>id</th>\n",
              "      <th>qid1</th>\n",
              "      <th>qid2</th>\n",
              "      <th>question1</th>\n",
              "      <th>question2</th>\n",
              "      <th>is_duplicate</th>\n",
              "    </tr>\n",
              "  </thead>\n",
              "  <tbody>\n",
              "    <tr>\n",
              "      <th>0</th>\n",
              "      <td>0</td>\n",
              "      <td>1</td>\n",
              "      <td>2</td>\n",
              "      <td>What is the step by step guide to invest in sh...</td>\n",
              "      <td>What is the step by step guide to invest in sh...</td>\n",
              "      <td>0</td>\n",
              "    </tr>\n",
              "    <tr>\n",
              "      <th>1</th>\n",
              "      <td>1</td>\n",
              "      <td>3</td>\n",
              "      <td>4</td>\n",
              "      <td>What is the story of Kohinoor (Koh-i-Noor) Dia...</td>\n",
              "      <td>What would happen if the Indian government sto...</td>\n",
              "      <td>0</td>\n",
              "    </tr>\n",
              "    <tr>\n",
              "      <th>2</th>\n",
              "      <td>2</td>\n",
              "      <td>5</td>\n",
              "      <td>6</td>\n",
              "      <td>How can I increase the speed of my internet co...</td>\n",
              "      <td>How can Internet speed be increased by hacking...</td>\n",
              "      <td>0</td>\n",
              "    </tr>\n",
              "    <tr>\n",
              "      <th>3</th>\n",
              "      <td>3</td>\n",
              "      <td>7</td>\n",
              "      <td>8</td>\n",
              "      <td>Why am I mentally very lonely? How can I solve...</td>\n",
              "      <td>Find the remainder when [math]23^{24}[/math] i...</td>\n",
              "      <td>0</td>\n",
              "    </tr>\n",
              "    <tr>\n",
              "      <th>4</th>\n",
              "      <td>4</td>\n",
              "      <td>9</td>\n",
              "      <td>10</td>\n",
              "      <td>Which one dissolve in water quikly sugar, salt...</td>\n",
              "      <td>Which fish would survive in salt water?</td>\n",
              "      <td>0</td>\n",
              "    </tr>\n",
              "  </tbody>\n",
              "</table>\n",
              "</div>\n",
              "    <div class=\"colab-df-buttons\">\n",
              "\n",
              "  <div class=\"colab-df-container\">\n",
              "    <button class=\"colab-df-convert\" onclick=\"convertToInteractive('df-2bb6bfe6-2d8c-4333-972a-2d3e8bfa82a9')\"\n",
              "            title=\"Convert this dataframe to an interactive table.\"\n",
              "            style=\"display:none;\">\n",
              "\n",
              "  <svg xmlns=\"http://www.w3.org/2000/svg\" height=\"24px\" viewBox=\"0 -960 960 960\">\n",
              "    <path d=\"M120-120v-720h720v720H120Zm60-500h600v-160H180v160Zm220 220h160v-160H400v160Zm0 220h160v-160H400v160ZM180-400h160v-160H180v160Zm440 0h160v-160H620v160ZM180-180h160v-160H180v160Zm440 0h160v-160H620v160Z\"/>\n",
              "  </svg>\n",
              "    </button>\n",
              "\n",
              "  <style>\n",
              "    .colab-df-container {\n",
              "      display:flex;\n",
              "      gap: 12px;\n",
              "    }\n",
              "\n",
              "    .colab-df-convert {\n",
              "      background-color: #E8F0FE;\n",
              "      border: none;\n",
              "      border-radius: 50%;\n",
              "      cursor: pointer;\n",
              "      display: none;\n",
              "      fill: #1967D2;\n",
              "      height: 32px;\n",
              "      padding: 0 0 0 0;\n",
              "      width: 32px;\n",
              "    }\n",
              "\n",
              "    .colab-df-convert:hover {\n",
              "      background-color: #E2EBFA;\n",
              "      box-shadow: 0px 1px 2px rgba(60, 64, 67, 0.3), 0px 1px 3px 1px rgba(60, 64, 67, 0.15);\n",
              "      fill: #174EA6;\n",
              "    }\n",
              "\n",
              "    .colab-df-buttons div {\n",
              "      margin-bottom: 4px;\n",
              "    }\n",
              "\n",
              "    [theme=dark] .colab-df-convert {\n",
              "      background-color: #3B4455;\n",
              "      fill: #D2E3FC;\n",
              "    }\n",
              "\n",
              "    [theme=dark] .colab-df-convert:hover {\n",
              "      background-color: #434B5C;\n",
              "      box-shadow: 0px 1px 3px 1px rgba(0, 0, 0, 0.15);\n",
              "      filter: drop-shadow(0px 1px 2px rgba(0, 0, 0, 0.3));\n",
              "      fill: #FFFFFF;\n",
              "    }\n",
              "  </style>\n",
              "\n",
              "    <script>\n",
              "      const buttonEl =\n",
              "        document.querySelector('#df-2bb6bfe6-2d8c-4333-972a-2d3e8bfa82a9 button.colab-df-convert');\n",
              "      buttonEl.style.display =\n",
              "        google.colab.kernel.accessAllowed ? 'block' : 'none';\n",
              "\n",
              "      async function convertToInteractive(key) {\n",
              "        const element = document.querySelector('#df-2bb6bfe6-2d8c-4333-972a-2d3e8bfa82a9');\n",
              "        const dataTable =\n",
              "          await google.colab.kernel.invokeFunction('convertToInteractive',\n",
              "                                                    [key], {});\n",
              "        if (!dataTable) return;\n",
              "\n",
              "        const docLinkHtml = 'Like what you see? Visit the ' +\n",
              "          '<a target=\"_blank\" href=https://colab.research.google.com/notebooks/data_table.ipynb>data table notebook</a>'\n",
              "          + ' to learn more about interactive tables.';\n",
              "        element.innerHTML = '';\n",
              "        dataTable['output_type'] = 'display_data';\n",
              "        await google.colab.output.renderOutput(dataTable, element);\n",
              "        const docLink = document.createElement('div');\n",
              "        docLink.innerHTML = docLinkHtml;\n",
              "        element.appendChild(docLink);\n",
              "      }\n",
              "    </script>\n",
              "  </div>\n",
              "\n",
              "\n",
              "<div id=\"df-2d471a8f-2aa9-454c-8223-482292150e6e\">\n",
              "  <button class=\"colab-df-quickchart\" onclick=\"quickchart('df-2d471a8f-2aa9-454c-8223-482292150e6e')\"\n",
              "            title=\"Suggest charts\"\n",
              "            style=\"display:none;\">\n",
              "\n",
              "<svg xmlns=\"http://www.w3.org/2000/svg\" height=\"24px\"viewBox=\"0 0 24 24\"\n",
              "     width=\"24px\">\n",
              "    <g>\n",
              "        <path d=\"M19 3H5c-1.1 0-2 .9-2 2v14c0 1.1.9 2 2 2h14c1.1 0 2-.9 2-2V5c0-1.1-.9-2-2-2zM9 17H7v-7h2v7zm4 0h-2V7h2v10zm4 0h-2v-4h2v4z\"/>\n",
              "    </g>\n",
              "</svg>\n",
              "  </button>\n",
              "\n",
              "<style>\n",
              "  .colab-df-quickchart {\n",
              "      --bg-color: #E8F0FE;\n",
              "      --fill-color: #1967D2;\n",
              "      --hover-bg-color: #E2EBFA;\n",
              "      --hover-fill-color: #174EA6;\n",
              "      --disabled-fill-color: #AAA;\n",
              "      --disabled-bg-color: #DDD;\n",
              "  }\n",
              "\n",
              "  [theme=dark] .colab-df-quickchart {\n",
              "      --bg-color: #3B4455;\n",
              "      --fill-color: #D2E3FC;\n",
              "      --hover-bg-color: #434B5C;\n",
              "      --hover-fill-color: #FFFFFF;\n",
              "      --disabled-bg-color: #3B4455;\n",
              "      --disabled-fill-color: #666;\n",
              "  }\n",
              "\n",
              "  .colab-df-quickchart {\n",
              "    background-color: var(--bg-color);\n",
              "    border: none;\n",
              "    border-radius: 50%;\n",
              "    cursor: pointer;\n",
              "    display: none;\n",
              "    fill: var(--fill-color);\n",
              "    height: 32px;\n",
              "    padding: 0;\n",
              "    width: 32px;\n",
              "  }\n",
              "\n",
              "  .colab-df-quickchart:hover {\n",
              "    background-color: var(--hover-bg-color);\n",
              "    box-shadow: 0 1px 2px rgba(60, 64, 67, 0.3), 0 1px 3px 1px rgba(60, 64, 67, 0.15);\n",
              "    fill: var(--button-hover-fill-color);\n",
              "  }\n",
              "\n",
              "  .colab-df-quickchart-complete:disabled,\n",
              "  .colab-df-quickchart-complete:disabled:hover {\n",
              "    background-color: var(--disabled-bg-color);\n",
              "    fill: var(--disabled-fill-color);\n",
              "    box-shadow: none;\n",
              "  }\n",
              "\n",
              "  .colab-df-spinner {\n",
              "    border: 2px solid var(--fill-color);\n",
              "    border-color: transparent;\n",
              "    border-bottom-color: var(--fill-color);\n",
              "    animation:\n",
              "      spin 1s steps(1) infinite;\n",
              "  }\n",
              "\n",
              "  @keyframes spin {\n",
              "    0% {\n",
              "      border-color: transparent;\n",
              "      border-bottom-color: var(--fill-color);\n",
              "      border-left-color: var(--fill-color);\n",
              "    }\n",
              "    20% {\n",
              "      border-color: transparent;\n",
              "      border-left-color: var(--fill-color);\n",
              "      border-top-color: var(--fill-color);\n",
              "    }\n",
              "    30% {\n",
              "      border-color: transparent;\n",
              "      border-left-color: var(--fill-color);\n",
              "      border-top-color: var(--fill-color);\n",
              "      border-right-color: var(--fill-color);\n",
              "    }\n",
              "    40% {\n",
              "      border-color: transparent;\n",
              "      border-right-color: var(--fill-color);\n",
              "      border-top-color: var(--fill-color);\n",
              "    }\n",
              "    60% {\n",
              "      border-color: transparent;\n",
              "      border-right-color: var(--fill-color);\n",
              "    }\n",
              "    80% {\n",
              "      border-color: transparent;\n",
              "      border-right-color: var(--fill-color);\n",
              "      border-bottom-color: var(--fill-color);\n",
              "    }\n",
              "    90% {\n",
              "      border-color: transparent;\n",
              "      border-bottom-color: var(--fill-color);\n",
              "    }\n",
              "  }\n",
              "</style>\n",
              "\n",
              "  <script>\n",
              "    async function quickchart(key) {\n",
              "      const quickchartButtonEl =\n",
              "        document.querySelector('#' + key + ' button');\n",
              "      quickchartButtonEl.disabled = true;  // To prevent multiple clicks.\n",
              "      quickchartButtonEl.classList.add('colab-df-spinner');\n",
              "      try {\n",
              "        const charts = await google.colab.kernel.invokeFunction(\n",
              "            'suggestCharts', [key], {});\n",
              "      } catch (error) {\n",
              "        console.error('Error during call to suggestCharts:', error);\n",
              "      }\n",
              "      quickchartButtonEl.classList.remove('colab-df-spinner');\n",
              "      quickchartButtonEl.classList.add('colab-df-quickchart-complete');\n",
              "    }\n",
              "    (() => {\n",
              "      let quickchartButtonEl =\n",
              "        document.querySelector('#df-2d471a8f-2aa9-454c-8223-482292150e6e button');\n",
              "      quickchartButtonEl.style.display =\n",
              "        google.colab.kernel.accessAllowed ? 'block' : 'none';\n",
              "    })();\n",
              "  </script>\n",
              "</div>\n",
              "\n",
              "    </div>\n",
              "  </div>\n"
            ],
            "application/vnd.google.colaboratory.intrinsic+json": {
              "type": "dataframe",
              "variable_name": "new_df"
            }
          },
          "metadata": {},
          "execution_count": 7
        }
      ]
    },
    {
      "cell_type": "code",
      "source": [
        "new_df = new_df.dropna()\n",
        "new_df.info()"
      ],
      "metadata": {
        "colab": {
          "base_uri": "https://localhost:8080/"
        },
        "id": "Ko1VrITOe9Qs",
        "outputId": "a6c9eba9-8a7a-4086-d41c-93bf3a942bb8"
      },
      "execution_count": 8,
      "outputs": [
        {
          "output_type": "stream",
          "name": "stdout",
          "text": [
            "<class 'pandas.core.frame.DataFrame'>\n",
            "Index: 404287 entries, 0 to 404289\n",
            "Data columns (total 6 columns):\n",
            " #   Column        Non-Null Count   Dtype \n",
            "---  ------        --------------   ----- \n",
            " 0   id            404287 non-null  int64 \n",
            " 1   qid1          404287 non-null  int64 \n",
            " 2   qid2          404287 non-null  int64 \n",
            " 3   question1     404287 non-null  object\n",
            " 4   question2     404287 non-null  object\n",
            " 5   is_duplicate  404287 non-null  int64 \n",
            "dtypes: int64(4), object(2)\n",
            "memory usage: 21.6+ MB\n"
          ]
        }
      ]
    },
    {
      "cell_type": "code",
      "source": [
        "new_df.info()"
      ],
      "metadata": {
        "colab": {
          "base_uri": "https://localhost:8080/"
        },
        "id": "ztKwYpYAVpaK",
        "outputId": "797a6065-9045-47ad-cf68-dc15090d2608"
      },
      "execution_count": 9,
      "outputs": [
        {
          "output_type": "stream",
          "name": "stdout",
          "text": [
            "<class 'pandas.core.frame.DataFrame'>\n",
            "Index: 404287 entries, 0 to 404289\n",
            "Data columns (total 6 columns):\n",
            " #   Column        Non-Null Count   Dtype \n",
            "---  ------        --------------   ----- \n",
            " 0   id            404287 non-null  int64 \n",
            " 1   qid1          404287 non-null  int64 \n",
            " 2   qid2          404287 non-null  int64 \n",
            " 3   question1     404287 non-null  object\n",
            " 4   question2     404287 non-null  object\n",
            " 5   is_duplicate  404287 non-null  int64 \n",
            "dtypes: int64(4), object(2)\n",
            "memory usage: 21.6+ MB\n"
          ]
        }
      ]
    },
    {
      "cell_type": "markdown",
      "source": [
        "#Preprocess question pair"
      ],
      "metadata": {
        "id": "HlXVuQY87wUk"
      }
    },
    {
      "cell_type": "code",
      "source": [
        "from bs4 import BeautifulSoup\n",
        "import re"
      ],
      "metadata": {
        "id": "PaI4-hyD0G3u"
      },
      "execution_count": 10,
      "outputs": []
    },
    {
      "cell_type": "code",
      "source": [
        "def preprocess(q):\n",
        "\n",
        "    q = str(q).lower().strip()\n",
        "\n",
        "    # Replace certain special characters with their string equivalents\n",
        "    q = q.replace('%', ' percent')\n",
        "    q = q.replace('$', ' dollar ')\n",
        "    q = q.replace('₹', ' rupee ')\n",
        "    q = q.replace('€', ' euro ')\n",
        "    q = q.replace('@', ' at ')\n",
        "\n",
        "    # The pattern '[math]' appears around 900 times in the whole dataset.\n",
        "    q = q.replace('[math]', '')\n",
        "\n",
        "    # Replacing some numbers with string equivalents (not perfect, can be done better to account for more cases)\n",
        "    q = q.replace(',000,000,000 ', 'b ')\n",
        "    q = q.replace(',000,000 ', 'm ')\n",
        "    q = q.replace(',000 ', 'k ')\n",
        "    q = re.sub(r'([0-9]+)000000000', r'\\1b', q)\n",
        "    q = re.sub(r'([0-9]+)000000', r'\\1m', q)\n",
        "    q = re.sub(r'([0-9]+)000', r'\\1k', q)\n",
        "\n",
        "    # Decontracting words\n",
        "    # https://en.wikipedia.org/wiki/Wikipedia%3aList_of_English_contractions\n",
        "    # https://stackoverflow.com/a/19794953\n",
        "    contractions = {\n",
        "    \"ain't\": \"am not\",\n",
        "    \"aren't\": \"are not\",\n",
        "    \"can't\": \"can not\",\n",
        "    \"can't've\": \"can not have\",\n",
        "    \"'cause\": \"because\",\n",
        "    \"could've\": \"could have\",\n",
        "    \"couldn't\": \"could not\",\n",
        "    \"couldn't've\": \"could not have\",\n",
        "    \"didn't\": \"did not\",\n",
        "    \"doesn't\": \"does not\",\n",
        "    \"don't\": \"do not\",\n",
        "    \"hadn't\": \"had not\",\n",
        "    \"hadn't've\": \"had not have\",\n",
        "    \"hasn't\": \"has not\",\n",
        "    \"haven't\": \"have not\",\n",
        "    \"he'd\": \"he would\",\n",
        "    \"he'd've\": \"he would have\",\n",
        "    \"he'll\": \"he will\",\n",
        "    \"he'll've\": \"he will have\",\n",
        "    \"he's\": \"he is\",\n",
        "    \"how'd\": \"how did\",\n",
        "    \"how'd'y\": \"how do you\",\n",
        "    \"how'll\": \"how will\",\n",
        "    \"how's\": \"how is\",\n",
        "    \"i'd\": \"i would\",\n",
        "    \"i'd've\": \"i would have\",\n",
        "    \"i'll\": \"i will\",\n",
        "    \"i'll've\": \"i will have\",\n",
        "    \"i'm\": \"i am\",\n",
        "    \"i've\": \"i have\",\n",
        "    \"isn't\": \"is not\",\n",
        "    \"it'd\": \"it would\",\n",
        "    \"it'd've\": \"it would have\",\n",
        "    \"it'll\": \"it will\",\n",
        "    \"it'll've\": \"it will have\",\n",
        "    \"it's\": \"it is\",\n",
        "    \"let's\": \"let us\",\n",
        "    \"ma'am\": \"madam\",\n",
        "    \"mayn't\": \"may not\",\n",
        "    \"might've\": \"might have\",\n",
        "    \"mightn't\": \"might not\",\n",
        "    \"mightn't've\": \"might not have\",\n",
        "    \"must've\": \"must have\",\n",
        "    \"mustn't\": \"must not\",\n",
        "    \"mustn't've\": \"must not have\",\n",
        "    \"needn't\": \"need not\",\n",
        "    \"needn't've\": \"need not have\",\n",
        "    \"o'clock\": \"of the clock\",\n",
        "    \"oughtn't\": \"ought not\",\n",
        "    \"oughtn't've\": \"ought not have\",\n",
        "    \"shan't\": \"shall not\",\n",
        "    \"sha'n't\": \"shall not\",\n",
        "    \"shan't've\": \"shall not have\",\n",
        "    \"she'd\": \"she would\",\n",
        "    \"she'd've\": \"she would have\",\n",
        "    \"she'll\": \"she will\",\n",
        "    \"she'll've\": \"she will have\",\n",
        "    \"she's\": \"she is\",\n",
        "    \"should've\": \"should have\",\n",
        "    \"shouldn't\": \"should not\",\n",
        "    \"shouldn't've\": \"should not have\",\n",
        "    \"so've\": \"so have\",\n",
        "    \"so's\": \"so as\",\n",
        "    \"that'd\": \"that would\",\n",
        "    \"that'd've\": \"that would have\",\n",
        "    \"that's\": \"that is\",\n",
        "    \"there'd\": \"there would\",\n",
        "    \"there'd've\": \"there would have\",\n",
        "    \"there's\": \"there is\",\n",
        "    \"they'd\": \"they would\",\n",
        "    \"they'd've\": \"they would have\",\n",
        "    \"they'll\": \"they will\",\n",
        "    \"they'll've\": \"they will have\",\n",
        "    \"they're\": \"they are\",\n",
        "    \"they've\": \"they have\",\n",
        "    \"to've\": \"to have\",\n",
        "    \"wasn't\": \"was not\",\n",
        "    \"we'd\": \"we would\",\n",
        "    \"we'd've\": \"we would have\",\n",
        "    \"we'll\": \"we will\",\n",
        "    \"we'll've\": \"we will have\",\n",
        "    \"we're\": \"we are\",\n",
        "    \"we've\": \"we have\",\n",
        "    \"weren't\": \"were not\",\n",
        "    \"what'll\": \"what will\",\n",
        "    \"what'll've\": \"what will have\",\n",
        "    \"what're\": \"what are\",\n",
        "    \"what's\": \"what is\",\n",
        "    \"what've\": \"what have\",\n",
        "    \"when's\": \"when is\",\n",
        "    \"when've\": \"when have\",\n",
        "    \"where'd\": \"where did\",\n",
        "    \"where's\": \"where is\",\n",
        "    \"where've\": \"where have\",\n",
        "    \"who'll\": \"who will\",\n",
        "    \"who'll've\": \"who will have\",\n",
        "    \"who's\": \"who is\",\n",
        "    \"who've\": \"who have\",\n",
        "    \"why's\": \"why is\",\n",
        "    \"why've\": \"why have\",\n",
        "    \"will've\": \"will have\",\n",
        "    \"won't\": \"will not\",\n",
        "    \"won't've\": \"will not have\",\n",
        "    \"would've\": \"would have\",\n",
        "    \"wouldn't\": \"would not\",\n",
        "    \"wouldn't've\": \"would not have\",\n",
        "    \"y'all\": \"you all\",\n",
        "    \"y'all'd\": \"you all would\",\n",
        "    \"y'all'd've\": \"you all would have\",\n",
        "    \"y'all're\": \"you all are\",\n",
        "    \"y'all've\": \"you all have\",\n",
        "    \"you'd\": \"you would\",\n",
        "    \"you'd've\": \"you would have\",\n",
        "    \"you'll\": \"you will\",\n",
        "    \"you'll've\": \"you will have\",\n",
        "    \"you're\": \"you are\",\n",
        "    \"you've\": \"you have\"\n",
        "    }\n",
        "\n",
        "    q_decontracted = []\n",
        "\n",
        "    for word in q.split():\n",
        "        if word in contractions:\n",
        "            word = contractions[word]\n",
        "\n",
        "        q_decontracted.append(word)\n",
        "\n",
        "    q = ' '.join(q_decontracted)\n",
        "    q = q.replace(\"'ve\", \" have\")\n",
        "    q = q.replace(\"n't\", \" not\")\n",
        "    q = q.replace(\"'re\", \" are\")\n",
        "    q = q.replace(\"'ll\", \" will\")\n",
        "\n",
        "    # Removing HTML tags\n",
        "    q = BeautifulSoup(q)\n",
        "    q = q.get_text()\n",
        "    # Removing HTML tags\n",
        "    q = BeautifulSoup(q)\n",
        "    q = q.get_text()\n",
        "\n",
        "    # Remove punctuations\n",
        "    pattern = re.compile('\\W')\n",
        "    q = re.sub(pattern, ' ', q).strip()\n",
        "\n",
        "\n",
        "    return q"
      ],
      "metadata": {
        "id": "eFmU0QSp0Epy"
      },
      "execution_count": 11,
      "outputs": []
    },
    {
      "cell_type": "code",
      "source": [
        "new_df['question1'] = new_df['question1'].apply(preprocess)\n",
        "new_df['question2'] = new_df['question2'].apply(preprocess)"
      ],
      "metadata": {
        "colab": {
          "base_uri": "https://localhost:8080/"
        },
        "id": "WWZdn2gi0LoS",
        "outputId": "18257cd6-5643-433f-db6a-621e6853f50f"
      },
      "execution_count": 12,
      "outputs": [
        {
          "output_type": "stream",
          "name": "stderr",
          "text": [
            "<ipython-input-11-da7cec07d695>:161: MarkupResemblesLocatorWarning: The input looks more like a filename than markup. You may want to open this file and pass the filehandle into Beautiful Soup.\n",
            "  q = BeautifulSoup(q)\n",
            "<ipython-input-11-da7cec07d695>:164: MarkupResemblesLocatorWarning: The input looks more like a filename than markup. You may want to open this file and pass the filehandle into Beautiful Soup.\n",
            "  q = BeautifulSoup(q)\n",
            "<ipython-input-11-da7cec07d695>:161: MarkupResemblesLocatorWarning: The input looks more like a filename than markup. You may want to open this file and pass the filehandle into Beautiful Soup.\n",
            "  q = BeautifulSoup(q)\n",
            "<ipython-input-11-da7cec07d695>:164: MarkupResemblesLocatorWarning: The input looks more like a filename than markup. You may want to open this file and pass the filehandle into Beautiful Soup.\n",
            "  q = BeautifulSoup(q)\n"
          ]
        }
      ]
    },
    {
      "cell_type": "markdown",
      "source": [
        "#Storing question_1 and question_2 in different variable"
      ],
      "metadata": {
        "id": "SA2ehgKy98XO"
      }
    },
    {
      "cell_type": "code",
      "source": [
        "question_one= new_df['question1'].astype(str)\n",
        "print(question_one.head())"
      ],
      "metadata": {
        "id": "hVxu2oM8-QfE",
        "colab": {
          "base_uri": "https://localhost:8080/"
        },
        "outputId": "0702e23a-044d-425b-b98b-cb2d2660e6f8"
      },
      "execution_count": 13,
      "outputs": [
        {
          "output_type": "stream",
          "name": "stdout",
          "text": [
            "0    what is the step by step guide to invest in sh...\n",
            "1    what is the story of kohinoor  koh i noor  dia...\n",
            "2    how can i increase the speed of my internet co...\n",
            "3    why am i mentally very lonely  how can i solve it\n",
            "4    which one dissolve in water quikly sugar  salt...\n",
            "Name: question1, dtype: object\n"
          ]
        }
      ]
    },
    {
      "cell_type": "code",
      "source": [
        "question_two= new_df['question2'].astype(str)\n",
        "print(question_two.head())"
      ],
      "metadata": {
        "id": "bxQLFjKp-XUG",
        "colab": {
          "base_uri": "https://localhost:8080/"
        },
        "outputId": "246d4a40-e39c-4d36-9c29-612154c5714c"
      },
      "execution_count": 14,
      "outputs": [
        {
          "output_type": "stream",
          "name": "stdout",
          "text": [
            "0    what is the step by step guide to invest in sh...\n",
            "1    what would happen if the indian government sto...\n",
            "2    how can internet speed be increased by hacking...\n",
            "3    find the remainder when 23  24   math  is divi...\n",
            "4               which fish would survive in salt water\n",
            "Name: question2, dtype: object\n"
          ]
        }
      ]
    },
    {
      "cell_type": "markdown",
      "source": [
        "#Fitting text on a single tokenized object"
      ],
      "metadata": {
        "id": "1Qy3zQjM-lCc"
      }
    },
    {
      "cell_type": "code",
      "source": [
        "from keras.preprocessing.text import Tokenizer\n",
        "tok_all = Tokenizer(filters='!\"#$%&\\'()*+,-./:;<=>?@[\\]^_`{|}~', lower=True, char_level = False)\n",
        "tok_all.fit_on_texts(question_one+question_two)"
      ],
      "metadata": {
        "id": "5JkimuA9-ayG"
      },
      "execution_count": 15,
      "outputs": []
    },
    {
      "cell_type": "code",
      "source": [
        "vocabulary_all=len(tok_all.word_counts)\n",
        "print(vocabulary_all)"
      ],
      "metadata": {
        "id": "eRHhNo8y-r9x",
        "colab": {
          "base_uri": "https://localhost:8080/"
        },
        "outputId": "0d0fe56d-475f-4be0-ec19-179e96cbf858"
      },
      "execution_count": 16,
      "outputs": [
        {
          "output_type": "stream",
          "name": "stdout",
          "text": [
            "176151\n"
          ]
        }
      ]
    },
    {
      "cell_type": "markdown",
      "source": [
        "#Encoding every question"
      ],
      "metadata": {
        "id": "vtSU02b2-vz7"
      }
    },
    {
      "cell_type": "code",
      "source": [
        "#Encoding question 1\n",
        "encoded_q1=tok_all.texts_to_sequences(question_one)\n",
        "print(question_one[0])\n",
        "encoded_q1[0]"
      ],
      "metadata": {
        "id": "gJJ-Dx0v_Gfz",
        "colab": {
          "base_uri": "https://localhost:8080/"
        },
        "outputId": "ee5ce302-5a5d-4853-cd99-586390f27c90"
      },
      "execution_count": 17,
      "outputs": [
        {
          "output_type": "stream",
          "name": "stdout",
          "text": [
            "what is the step by step guide to invest in share market in india\n"
          ]
        },
        {
          "output_type": "execute_result",
          "data": {
            "text/plain": [
              "[7, 2, 1, 1195, 57, 1195, 2601, 5, 538, 6, 734, 429, 6, 46]"
            ]
          },
          "metadata": {},
          "execution_count": 17
        }
      ]
    },
    {
      "cell_type": "code",
      "source": [
        "#Encoding question 2\n",
        "encoded_q2=tok_all.texts_to_sequences(question_two)\n",
        "print(question_two[0])\n",
        "encoded_q2[0]"
      ],
      "metadata": {
        "id": "oOZYtZqR_KV4",
        "colab": {
          "base_uri": "https://localhost:8080/"
        },
        "outputId": "1430a456-97fb-49bf-fdd3-1d0c8abea4e1"
      },
      "execution_count": 18,
      "outputs": [
        {
          "output_type": "stream",
          "name": "stdout",
          "text": [
            "what is the step by step guide to invest in share market\n"
          ]
        },
        {
          "output_type": "execute_result",
          "data": {
            "text/plain": [
              "[7, 2, 1, 1195, 57, 1195, 2601, 5, 538, 6, 734, 429]"
            ]
          },
          "metadata": {},
          "execution_count": 18
        }
      ]
    },
    {
      "cell_type": "markdown",
      "source": [
        "#Pre padding the encoded sequences"
      ],
      "metadata": {
        "id": "saWktytK_QFc"
      }
    },
    {
      "cell_type": "code",
      "source": [
        "#####Padding encoded sequence of words of question_1\n",
        "from keras.preprocessing import sequence\n",
        "max_length=100\n",
        "padded_docs_q1 = sequence.pad_sequences(encoded_q1, maxlen=max_length, padding='pre')"
      ],
      "metadata": {
        "id": "FfzM02mAGjb6"
      },
      "execution_count": 19,
      "outputs": []
    },
    {
      "cell_type": "code",
      "source": [
        "#####Padding encoded sequence of words of question_2\n",
        "from keras.preprocessing import sequence\n",
        "max_length=100\n",
        "padded_docs_q2 = sequence.pad_sequences(encoded_q2, maxlen=max_length, padding='pre')"
      ],
      "metadata": {
        "id": "IipB64SbGrrf"
      },
      "execution_count": 20,
      "outputs": []
    },
    {
      "cell_type": "markdown",
      "source": [
        "#Reading Embedding Vector from Glove"
      ],
      "metadata": {
        "id": "wJfitQh-HFsk"
      }
    },
    {
      "cell_type": "code",
      "source": [
        "embeddings_index = {}\n",
        "f = open('/content/glove.6B.300d.txt')\n",
        "for line in f:\n",
        "    values = line.split()\n",
        "    word = values[0]\n",
        "    coefs = np.asarray(values[1:], dtype='float32')\n",
        "    embeddings_index[word] = coefs\n",
        "f.close()\n",
        "print('Loaded %s word vectors.' % len(embeddings_index))"
      ],
      "metadata": {
        "id": "DzUaN_D2HFIZ",
        "colab": {
          "base_uri": "https://localhost:8080/"
        },
        "outputId": "f8b2236f-e9b4-40ea-d5b6-7813de7ddc20"
      },
      "execution_count": 21,
      "outputs": [
        {
          "output_type": "stream",
          "name": "stdout",
          "text": [
            "Loaded 400000 word vectors.\n"
          ]
        }
      ]
    },
    {
      "cell_type": "code",
      "source": [
        "#create embedding matrix\n",
        "\n",
        "embedding_matrix = np.zeros((vocabulary_all+1, 300))\n",
        "for word, i in tok_all.word_index.items():\n",
        "\tembedding_vector = embeddings_index.get(word)\n",
        "\tif embedding_vector is not None:\n",
        "\t\t# words not found in embedding index will be all-zeros.\n",
        "\t\tembedding_matrix[i] = embedding_vector"
      ],
      "metadata": {
        "id": "BZsBscbIJtoi"
      },
      "execution_count": 22,
      "outputs": []
    },
    {
      "cell_type": "markdown",
      "source": [
        "#Initialization of some variables"
      ],
      "metadata": {
        "id": "Wg17KrdcKUT1"
      }
    },
    {
      "cell_type": "code",
      "source": [
        "rate_drop_lstm = 0.17\n",
        "number_dense_units = 64\n",
        "activation_function = 'relu'\n",
        "rate_drop_dense = 0.25\n",
        "validation_split_ratio = 0.3"
      ],
      "metadata": {
        "id": "61brUgGbKTz2"
      },
      "execution_count": 23,
      "outputs": []
    },
    {
      "cell_type": "markdown",
      "source": [
        "#Add a feature to the data frame"
      ],
      "metadata": {
        "id": "Xz4YB5p5Mc5s"
      }
    },
    {
      "cell_type": "code",
      "source": [
        "def commonWords():\n",
        "   # leak data\n",
        "   length_features = [[len(set(x1)), len(set(x2)), len(set(x1).intersection(x2))] for x1, x2 in zip(encoded_q1, encoded_q2)]\n",
        "   length_features = np.array(length_features)\n",
        "   return length_features\n",
        "length_features= commonWords()"
      ],
      "metadata": {
        "id": "h-WhvoT4MccW"
      },
      "execution_count": 24,
      "outputs": []
    },
    {
      "cell_type": "code",
      "source": [
        "length_features.shape"
      ],
      "metadata": {
        "colab": {
          "base_uri": "https://localhost:8080/"
        },
        "id": "mn4P6MEi68u7",
        "outputId": "815a4e39-ab79-4b9b-d1a8-a403de04602e"
      },
      "execution_count": 25,
      "outputs": [
        {
          "output_type": "execute_result",
          "data": {
            "text/plain": [
              "(404287, 3)"
            ]
          },
          "metadata": {},
          "execution_count": 25
        }
      ]
    },
    {
      "cell_type": "code",
      "source": [
        "#Convert labels from 1d array into 2d array\n",
        "import numpy as np\n",
        "from keras.utils import to_categorical\n",
        "label_twoDimension = to_categorical(new_df['is_duplicate'], num_classes=2)"
      ],
      "metadata": {
        "id": "9CluobOCWKWR"
      },
      "execution_count": 26,
      "outputs": []
    },
    {
      "cell_type": "markdown",
      "source": [
        "#train test split"
      ],
      "metadata": {
        "id": "NF-X1pbEVn6S"
      }
    },
    {
      "cell_type": "code",
      "source": [
        "from sklearn.model_selection import train_test_split\n",
        "text_train_q1, text_test_q1, text_train_q2, text_test_q2, length_features_train, length_features_test,label_train, label_test = train_test_split(padded_docs_q1, padded_docs_q2, length_features, label_twoDimension, test_size=0.3, random_state=42)\n"
      ],
      "metadata": {
        "id": "UdVS9H8sVniq"
      },
      "execution_count": 27,
      "outputs": []
    },
    {
      "cell_type": "code",
      "source": [
        "print('shape of text_train_q1   ', text_train_q1.shape)\n",
        "print('shape of text_test_q1   ', text_test_q1.shape)\n",
        "print('shape of text_train_q2   ', text_train_q2.shape)\n",
        "print('shape of text_test_q2   ', text_test_q2.shape)\n",
        "print('shape of length_features_train  ', length_features_train.shape)\n",
        "print('shape of tlength_features_test   ', length_features_test.shape)\n",
        "print('shape of label_train   ', label_train.shape)\n",
        "print('shape of label_test   ', label_test.shape)"
      ],
      "metadata": {
        "colab": {
          "base_uri": "https://localhost:8080/"
        },
        "id": "NXYN9kWm7cdT",
        "outputId": "3eb5deec-d7c7-43bf-f00c-a91644d4e664"
      },
      "execution_count": 28,
      "outputs": [
        {
          "output_type": "stream",
          "name": "stdout",
          "text": [
            "shape of text_train_q1    (283000, 100)\n",
            "shape of text_test_q1    (121287, 100)\n",
            "shape of text_train_q2    (283000, 100)\n",
            "shape of text_test_q2    (121287, 100)\n",
            "shape of length_features_train   (283000, 3)\n",
            "shape of tlength_features_test    (121287, 3)\n",
            "shape of label_train    (283000, 2)\n",
            "shape of label_test    (121287, 2)\n"
          ]
        }
      ]
    },
    {
      "cell_type": "code",
      "source": [
        "# Adding Embedding layer\n",
        "embedding_layer = (Embedding(vocabulary_all+1,300,weights=[embedding_matrix], input_length=max_length, trainable=False))\n",
        "\n",
        "\n",
        "# Creating LSTM Encoder\n",
        "lstm_layer = Bidirectional(LSTM(64,  dropout=rate_drop_lstm, recurrent_dropout=rate_drop_lstm))\n",
        "\n",
        "# Creating LSTM Encoder layer for First Sentence\n",
        "sequence_1_input = Input(shape=(max_length,), dtype='int32')\n",
        "embedded_sequences_1 = embedding_layer(sequence_1_input)\n",
        "x1 = lstm_layer(embedded_sequences_1)\n",
        "\n",
        "# Creating LSTM Encoder layer for Second Sentence\n",
        "sequence_2_input = Input(shape=(max_length,), dtype='int32')\n",
        "embedded_sequences_2 = embedding_layer(sequence_2_input)\n",
        "x2 = lstm_layer(embedded_sequences_2)\n",
        "\n",
        "# Creating leaks input\n",
        "wordLength_input = Input(shape=(length_features_train.shape[1],))\n",
        "wordLength_dense = Dense(int(number_dense_units/2), activation=activation_function)(wordLength_input)"
      ],
      "metadata": {
        "id": "2WOF9adP9hob"
      },
      "execution_count": 29,
      "outputs": []
    },
    {
      "cell_type": "code",
      "source": [
        "# Merging two LSTM encodes vectors from sentences to pass it to dense layer applying dropout and batch normalisation\n",
        "merged = concatenate([x1, x2, wordLength_dense])\n",
        "merged = BatchNormalization()(merged)\n",
        "merged = Dropout(rate_drop_dense)(merged)\n",
        "merged = Dense(number_dense_units, activation=activation_function)(merged)\n",
        "merged = BatchNormalization()(merged)\n",
        "merged = Dropout(rate_drop_dense)(merged)\n",
        "preds = Dense(2, activation='sigmoid')(merged)\n",
        "\n",
        "model = Model(inputs=[sequence_1_input, sequence_2_input, wordLength_input], outputs=preds)\n",
        "model.compile(loss='binary_crossentropy', optimizer='nadam', metrics=['acc'])\n",
        "model.summary()"
      ],
      "metadata": {
        "colab": {
          "base_uri": "https://localhost:8080/"
        },
        "id": "hg8ebzQ096mj",
        "outputId": "67a2ba0a-03c1-4afc-f694-bc4d2e51a1c6"
      },
      "execution_count": 30,
      "outputs": [
        {
          "output_type": "stream",
          "name": "stdout",
          "text": [
            "Model: \"model\"\n",
            "__________________________________________________________________________________________________\n",
            " Layer (type)                Output Shape                 Param #   Connected to                  \n",
            "==================================================================================================\n",
            " input_1 (InputLayer)        [(None, 100)]                0         []                            \n",
            "                                                                                                  \n",
            " input_2 (InputLayer)        [(None, 100)]                0         []                            \n",
            "                                                                                                  \n",
            " embedding (Embedding)       (None, 100, 300)             5284560   ['input_1[0][0]',             \n",
            "                                                          0          'input_2[0][0]']             \n",
            "                                                                                                  \n",
            " input_3 (InputLayer)        [(None, 3)]                  0         []                            \n",
            "                                                                                                  \n",
            " bidirectional (Bidirection  (None, 128)                  186880    ['embedding[0][0]',           \n",
            " al)                                                                 'embedding[1][0]']           \n",
            "                                                                                                  \n",
            " dense (Dense)               (None, 32)                   128       ['input_3[0][0]']             \n",
            "                                                                                                  \n",
            " concatenate (Concatenate)   (None, 288)                  0         ['bidirectional[0][0]',       \n",
            "                                                                     'bidirectional[1][0]',       \n",
            "                                                                     'dense[0][0]']               \n",
            "                                                                                                  \n",
            " batch_normalization (Batch  (None, 288)                  1152      ['concatenate[0][0]']         \n",
            " Normalization)                                                                                   \n",
            "                                                                                                  \n",
            " dropout (Dropout)           (None, 288)                  0         ['batch_normalization[0][0]'] \n",
            "                                                                                                  \n",
            " dense_1 (Dense)             (None, 64)                   18496     ['dropout[0][0]']             \n",
            "                                                                                                  \n",
            " batch_normalization_1 (Bat  (None, 64)                   256       ['dense_1[0][0]']             \n",
            " chNormalization)                                                                                 \n",
            "                                                                                                  \n",
            " dropout_1 (Dropout)         (None, 64)                   0         ['batch_normalization_1[0][0]'\n",
            "                                                                    ]                             \n",
            "                                                                                                  \n",
            " dense_2 (Dense)             (None, 2)                    130       ['dropout_1[0][0]']           \n",
            "                                                                                                  \n",
            "==================================================================================================\n",
            "Total params: 53052642 (202.38 MB)\n",
            "Trainable params: 206338 (806.01 KB)\n",
            "Non-trainable params: 52846304 (201.59 MB)\n",
            "__________________________________________________________________________________________________\n"
          ]
        }
      ]
    },
    {
      "cell_type": "code",
      "source": [
        "#Visualization of model\n",
        "plot_model(model, to_file='model_lstm2_3rd_feature.png')\n"
      ],
      "metadata": {
        "colab": {
          "base_uri": "https://localhost:8080/"
        },
        "id": "Ye70alob-erL",
        "outputId": "3c9cca98-457b-4cd4-9dae-183c0220226e"
      },
      "execution_count": 32,
      "outputs": [
        {
          "output_type": "stream",
          "name": "stdout",
          "text": [
            "You must install pydot (`pip install pydot`) and install graphviz (see instructions at https://graphviz.gitlab.io/download/) for plot_model to work.\n"
          ]
        }
      ]
    },
    {
      "cell_type": "code",
      "source": [
        "#callbacks defined\n",
        "from keras.callbacks import EarlyStopping, ReduceLROnPlateau,ModelCheckpoint\n",
        "\n",
        "earlystopper = EarlyStopping(patience=8, verbose=1)\n",
        "checkpointer = ModelCheckpoint(filepath = 'lstm_model_three_.{epoch:02d}-{val_loss:.6f}.hdf5',verbose=1,save_best_only=True,\n",
        "                               save_weights_only = True)\n",
        "\n",
        "reduce_lr = ReduceLROnPlateau(monitor='val_loss', factor=0.9, patience=2, min_lr=0.00001, verbose=1)"
      ],
      "metadata": {
        "id": "cbzgY16e_Qh7"
      },
      "execution_count": 33,
      "outputs": []
    },
    {
      "cell_type": "code",
      "source": [
        "#Train the model\n",
        "history = model.fit([text_train_q1, text_train_q2, length_features_train], label_train,\n",
        "                    validation_data=([text_test_q1, text_test_q2, length_features_test], label_test),\n",
        "                    epochs=200, batch_size= 1024,callbacks=[earlystopper, checkpointer, reduce_lr],verbose=1)"
      ],
      "metadata": {
        "colab": {
          "base_uri": "https://localhost:8080/"
        },
        "id": "Sm4LP7pS_TGb",
        "outputId": "7148348d-5cf4-43a8-ce1f-e42afea3aae1"
      },
      "execution_count": 34,
      "outputs": [
        {
          "output_type": "stream",
          "name": "stdout",
          "text": [
            "Epoch 1/200\n",
            "277/277 [==============================] - ETA: 0s - loss: 0.5485 - acc: 0.7176\n",
            "Epoch 1: val_loss improved from inf to 0.46933, saving model to lstm_model_three_.01-0.469327.hdf5\n",
            "277/277 [==============================] - 296s 1s/step - loss: 0.5485 - acc: 0.7176 - val_loss: 0.4693 - val_acc: 0.7565 - lr: 0.0010\n",
            "Epoch 2/200\n",
            "277/277 [==============================] - ETA: 0s - loss: 0.4609 - acc: 0.7614\n",
            "Epoch 2: val_loss improved from 0.46933 to 0.43793, saving model to lstm_model_three_.02-0.437932.hdf5\n",
            "277/277 [==============================] - 277s 1s/step - loss: 0.4609 - acc: 0.7614 - val_loss: 0.4379 - val_acc: 0.7739 - lr: 0.0010\n",
            "Epoch 3/200\n",
            "277/277 [==============================] - ETA: 0s - loss: 0.4392 - acc: 0.7751\n",
            "Epoch 3: val_loss improved from 0.43793 to 0.42022, saving model to lstm_model_three_.03-0.420216.hdf5\n",
            "277/277 [==============================] - 278s 1s/step - loss: 0.4392 - acc: 0.7751 - val_loss: 0.4202 - val_acc: 0.7892 - lr: 0.0010\n",
            "Epoch 4/200\n",
            "277/277 [==============================] - ETA: 0s - loss: 0.4255 - acc: 0.7849\n",
            "Epoch 4: val_loss improved from 0.42022 to 0.41480, saving model to lstm_model_three_.04-0.414803.hdf5\n",
            "277/277 [==============================] - 277s 1s/step - loss: 0.4255 - acc: 0.7849 - val_loss: 0.4148 - val_acc: 0.7918 - lr: 0.0010\n",
            "Epoch 5/200\n",
            "277/277 [==============================] - ETA: 0s - loss: 0.4162 - acc: 0.7906\n",
            "Epoch 5: val_loss improved from 0.41480 to 0.40592, saving model to lstm_model_three_.05-0.405917.hdf5\n",
            "277/277 [==============================] - 276s 998ms/step - loss: 0.4162 - acc: 0.7906 - val_loss: 0.4059 - val_acc: 0.7997 - lr: 0.0010\n",
            "Epoch 6/200\n",
            "277/277 [==============================] - ETA: 0s - loss: 0.4080 - acc: 0.7970\n",
            "Epoch 6: val_loss improved from 0.40592 to 0.40524, saving model to lstm_model_three_.06-0.405242.hdf5\n",
            "277/277 [==============================] - 278s 1s/step - loss: 0.4080 - acc: 0.7970 - val_loss: 0.4052 - val_acc: 0.8014 - lr: 0.0010\n",
            "Epoch 7/200\n",
            "277/277 [==============================] - ETA: 0s - loss: 0.4007 - acc: 0.8017\n",
            "Epoch 7: val_loss improved from 0.40524 to 0.39452, saving model to lstm_model_three_.07-0.394520.hdf5\n",
            "277/277 [==============================] - 278s 1s/step - loss: 0.4007 - acc: 0.8017 - val_loss: 0.3945 - val_acc: 0.8057 - lr: 0.0010\n",
            "Epoch 8/200\n",
            "277/277 [==============================] - ETA: 0s - loss: 0.3934 - acc: 0.8068\n",
            "Epoch 8: val_loss improved from 0.39452 to 0.39210, saving model to lstm_model_three_.08-0.392102.hdf5\n",
            "277/277 [==============================] - 277s 1s/step - loss: 0.3934 - acc: 0.8068 - val_loss: 0.3921 - val_acc: 0.8096 - lr: 0.0010\n",
            "Epoch 9/200\n",
            "277/277 [==============================] - ETA: 0s - loss: 0.3885 - acc: 0.8101\n",
            "Epoch 9: val_loss improved from 0.39210 to 0.38622, saving model to lstm_model_three_.09-0.386223.hdf5\n",
            "277/277 [==============================] - 277s 1s/step - loss: 0.3885 - acc: 0.8101 - val_loss: 0.3862 - val_acc: 0.8129 - lr: 0.0010\n",
            "Epoch 10/200\n",
            "277/277 [==============================] - ETA: 0s - loss: 0.3835 - acc: 0.8134\n",
            "Epoch 10: val_loss improved from 0.38622 to 0.38243, saving model to lstm_model_three_.10-0.382427.hdf5\n",
            "277/277 [==============================] - 278s 1s/step - loss: 0.3835 - acc: 0.8134 - val_loss: 0.3824 - val_acc: 0.8143 - lr: 0.0010\n",
            "Epoch 11/200\n",
            "277/277 [==============================] - ETA: 0s - loss: 0.3791 - acc: 0.8158\n",
            "Epoch 11: val_loss did not improve from 0.38243\n",
            "277/277 [==============================] - 277s 1s/step - loss: 0.3791 - acc: 0.8158 - val_loss: 0.3832 - val_acc: 0.8150 - lr: 0.0010\n",
            "Epoch 12/200\n",
            "277/277 [==============================] - ETA: 0s - loss: 0.3744 - acc: 0.8192\n",
            "Epoch 12: val_loss did not improve from 0.38243\n",
            "\n",
            "Epoch 12: ReduceLROnPlateau reducing learning rate to 0.0009000000427477062.\n",
            "277/277 [==============================] - 277s 1s/step - loss: 0.3744 - acc: 0.8192 - val_loss: 0.3841 - val_acc: 0.8133 - lr: 0.0010\n",
            "Epoch 13/200\n",
            "277/277 [==============================] - ETA: 0s - loss: 0.3706 - acc: 0.8212\n",
            "Epoch 13: val_loss improved from 0.38243 to 0.37459, saving model to lstm_model_three_.13-0.374594.hdf5\n",
            "277/277 [==============================] - 277s 1s/step - loss: 0.3706 - acc: 0.8212 - val_loss: 0.3746 - val_acc: 0.8196 - lr: 9.0000e-04\n",
            "Epoch 14/200\n",
            "277/277 [==============================] - ETA: 0s - loss: 0.3677 - acc: 0.8240\n",
            "Epoch 14: val_loss did not improve from 0.37459\n",
            "277/277 [==============================] - 277s 1000ms/step - loss: 0.3677 - acc: 0.8240 - val_loss: 0.3809 - val_acc: 0.8143 - lr: 9.0000e-04\n",
            "Epoch 15/200\n",
            "277/277 [==============================] - ETA: 0s - loss: 0.3638 - acc: 0.8257\n",
            "Epoch 15: val_loss improved from 0.37459 to 0.37110, saving model to lstm_model_three_.15-0.371096.hdf5\n",
            "277/277 [==============================] - 277s 999ms/step - loss: 0.3638 - acc: 0.8257 - val_loss: 0.3711 - val_acc: 0.8223 - lr: 9.0000e-04\n",
            "Epoch 16/200\n",
            "277/277 [==============================] - ETA: 0s - loss: 0.3613 - acc: 0.8267\n",
            "Epoch 16: val_loss improved from 0.37110 to 0.37084, saving model to lstm_model_three_.16-0.370839.hdf5\n",
            "277/277 [==============================] - 277s 1s/step - loss: 0.3613 - acc: 0.8267 - val_loss: 0.3708 - val_acc: 0.8222 - lr: 9.0000e-04\n",
            "Epoch 17/200\n",
            "277/277 [==============================] - ETA: 0s - loss: 0.3579 - acc: 0.8291\n",
            "Epoch 17: val_loss improved from 0.37084 to 0.36655, saving model to lstm_model_three_.17-0.366546.hdf5\n",
            "277/277 [==============================] - 278s 1s/step - loss: 0.3579 - acc: 0.8291 - val_loss: 0.3665 - val_acc: 0.8261 - lr: 9.0000e-04\n",
            "Epoch 18/200\n",
            "277/277 [==============================] - ETA: 0s - loss: 0.3561 - acc: 0.8308\n",
            "Epoch 18: val_loss did not improve from 0.36655\n",
            "277/277 [==============================] - 277s 999ms/step - loss: 0.3561 - acc: 0.8308 - val_loss: 0.3741 - val_acc: 0.8184 - lr: 9.0000e-04\n",
            "Epoch 19/200\n",
            "277/277 [==============================] - ETA: 0s - loss: 0.3538 - acc: 0.8314\n",
            "Epoch 19: val_loss did not improve from 0.36655\n",
            "\n",
            "Epoch 19: ReduceLROnPlateau reducing learning rate to 0.0008100000384729356.\n",
            "277/277 [==============================] - 277s 1s/step - loss: 0.3538 - acc: 0.8314 - val_loss: 0.3683 - val_acc: 0.8254 - lr: 9.0000e-04\n",
            "Epoch 20/200\n",
            "277/277 [==============================] - ETA: 0s - loss: 0.3504 - acc: 0.8342\n",
            "Epoch 20: val_loss did not improve from 0.36655\n",
            "277/277 [==============================] - 277s 999ms/step - loss: 0.3504 - acc: 0.8342 - val_loss: 0.3677 - val_acc: 0.8245 - lr: 8.1000e-04\n",
            "Epoch 21/200\n",
            "277/277 [==============================] - ETA: 0s - loss: 0.3488 - acc: 0.8346\n",
            "Epoch 21: val_loss improved from 0.36655 to 0.36542, saving model to lstm_model_three_.21-0.365420.hdf5\n",
            "277/277 [==============================] - 277s 1s/step - loss: 0.3488 - acc: 0.8346 - val_loss: 0.3654 - val_acc: 0.8260 - lr: 8.1000e-04\n",
            "Epoch 22/200\n",
            "277/277 [==============================] - ETA: 0s - loss: 0.3471 - acc: 0.8360\n",
            "Epoch 22: val_loss improved from 0.36542 to 0.36228, saving model to lstm_model_three_.22-0.362282.hdf5\n",
            "277/277 [==============================] - 276s 998ms/step - loss: 0.3471 - acc: 0.8360 - val_loss: 0.3623 - val_acc: 0.8279 - lr: 8.1000e-04\n",
            "Epoch 23/200\n",
            "277/277 [==============================] - ETA: 0s - loss: 0.3448 - acc: 0.8375\n",
            "Epoch 23: val_loss improved from 0.36228 to 0.36155, saving model to lstm_model_three_.23-0.361553.hdf5\n",
            "277/277 [==============================] - 276s 998ms/step - loss: 0.3448 - acc: 0.8375 - val_loss: 0.3616 - val_acc: 0.8295 - lr: 8.1000e-04\n",
            "Epoch 24/200\n",
            "277/277 [==============================] - ETA: 0s - loss: 0.3441 - acc: 0.8368\n",
            "Epoch 24: val_loss did not improve from 0.36155\n",
            "277/277 [==============================] - 275s 995ms/step - loss: 0.3441 - acc: 0.8368 - val_loss: 0.3632 - val_acc: 0.8281 - lr: 8.1000e-04\n",
            "Epoch 25/200\n",
            "277/277 [==============================] - ETA: 0s - loss: 0.3426 - acc: 0.8387\n",
            "Epoch 25: val_loss improved from 0.36155 to 0.36149, saving model to lstm_model_three_.25-0.361495.hdf5\n",
            "\n",
            "Epoch 25: ReduceLROnPlateau reducing learning rate to 0.0007290000503417104.\n",
            "277/277 [==============================] - 276s 997ms/step - loss: 0.3426 - acc: 0.8387 - val_loss: 0.3615 - val_acc: 0.8303 - lr: 8.1000e-04\n",
            "Epoch 26/200\n",
            "277/277 [==============================] - ETA: 0s - loss: 0.3401 - acc: 0.8394\n",
            "Epoch 26: val_loss did not improve from 0.36149\n",
            "277/277 [==============================] - 276s 997ms/step - loss: 0.3401 - acc: 0.8394 - val_loss: 0.3617 - val_acc: 0.8301 - lr: 7.2900e-04\n",
            "Epoch 27/200\n",
            "277/277 [==============================] - ETA: 0s - loss: 0.3389 - acc: 0.8404\n",
            "Epoch 27: val_loss improved from 0.36149 to 0.35927, saving model to lstm_model_three_.27-0.359271.hdf5\n",
            "277/277 [==============================] - 277s 1s/step - loss: 0.3389 - acc: 0.8404 - val_loss: 0.3593 - val_acc: 0.8304 - lr: 7.2900e-04\n",
            "Epoch 28/200\n",
            "277/277 [==============================] - ETA: 0s - loss: 0.3381 - acc: 0.8411\n",
            "Epoch 28: val_loss did not improve from 0.35927\n",
            "277/277 [==============================] - 276s 998ms/step - loss: 0.3381 - acc: 0.8411 - val_loss: 0.3648 - val_acc: 0.8265 - lr: 7.2900e-04\n",
            "Epoch 29/200\n",
            "277/277 [==============================] - ETA: 0s - loss: 0.3359 - acc: 0.8420\n",
            "Epoch 29: val_loss did not improve from 0.35927\n",
            "\n",
            "Epoch 29: ReduceLROnPlateau reducing learning rate to 0.0006561000715009868.\n",
            "277/277 [==============================] - 277s 1s/step - loss: 0.3359 - acc: 0.8420 - val_loss: 0.3624 - val_acc: 0.8282 - lr: 7.2900e-04\n",
            "Epoch 30/200\n",
            "277/277 [==============================] - ETA: 0s - loss: 0.3346 - acc: 0.8430\n",
            "Epoch 30: val_loss did not improve from 0.35927\n",
            "277/277 [==============================] - 278s 1s/step - loss: 0.3346 - acc: 0.8430 - val_loss: 0.3655 - val_acc: 0.8281 - lr: 6.5610e-04\n",
            "Epoch 31/200\n",
            "277/277 [==============================] - ETA: 0s - loss: 0.3345 - acc: 0.8424\n",
            "Epoch 31: val_loss did not improve from 0.35927\n",
            "\n",
            "Epoch 31: ReduceLROnPlateau reducing learning rate to 0.0005904900433961303.\n",
            "277/277 [==============================] - 277s 1000ms/step - loss: 0.3345 - acc: 0.8424 - val_loss: 0.3607 - val_acc: 0.8302 - lr: 6.5610e-04\n",
            "Epoch 32/200\n",
            "277/277 [==============================] - ETA: 0s - loss: 0.3327 - acc: 0.8439\n",
            "Epoch 32: val_loss improved from 0.35927 to 0.35788, saving model to lstm_model_three_.32-0.357878.hdf5\n",
            "277/277 [==============================] - 278s 1s/step - loss: 0.3327 - acc: 0.8439 - val_loss: 0.3579 - val_acc: 0.8312 - lr: 5.9049e-04\n",
            "Epoch 33/200\n",
            "277/277 [==============================] - ETA: 0s - loss: 0.3317 - acc: 0.8440\n",
            "Epoch 33: val_loss did not improve from 0.35788\n",
            "277/277 [==============================] - 276s 998ms/step - loss: 0.3317 - acc: 0.8440 - val_loss: 0.3641 - val_acc: 0.8268 - lr: 5.9049e-04\n",
            "Epoch 34/200\n",
            "277/277 [==============================] - ETA: 0s - loss: 0.3315 - acc: 0.8442\n",
            "Epoch 34: val_loss did not improve from 0.35788\n",
            "\n",
            "Epoch 34: ReduceLROnPlateau reducing learning rate to 0.0005314410547725857.\n",
            "277/277 [==============================] - 277s 1000ms/step - loss: 0.3315 - acc: 0.8442 - val_loss: 0.3625 - val_acc: 0.8289 - lr: 5.9049e-04\n",
            "Epoch 35/200\n",
            "277/277 [==============================] - ETA: 0s - loss: 0.3289 - acc: 0.8457\n",
            "Epoch 35: val_loss did not improve from 0.35788\n",
            "277/277 [==============================] - 277s 1000ms/step - loss: 0.3289 - acc: 0.8457 - val_loss: 0.3596 - val_acc: 0.8295 - lr: 5.3144e-04\n",
            "Epoch 36/200\n",
            "277/277 [==============================] - ETA: 0s - loss: 0.3283 - acc: 0.8462\n",
            "Epoch 36: val_loss did not improve from 0.35788\n",
            "\n",
            "Epoch 36: ReduceLROnPlateau reducing learning rate to 0.00047829695977270604.\n",
            "277/277 [==============================] - 276s 995ms/step - loss: 0.3283 - acc: 0.8462 - val_loss: 0.3609 - val_acc: 0.8291 - lr: 5.3144e-04\n",
            "Epoch 37/200\n",
            "277/277 [==============================] - ETA: 0s - loss: 0.3267 - acc: 0.8477\n",
            "Epoch 37: val_loss did not improve from 0.35788\n",
            "277/277 [==============================] - 276s 996ms/step - loss: 0.3267 - acc: 0.8477 - val_loss: 0.3632 - val_acc: 0.8284 - lr: 4.7830e-04\n",
            "Epoch 38/200\n",
            "277/277 [==============================] - ETA: 0s - loss: 0.3253 - acc: 0.8482\n",
            "Epoch 38: val_loss did not improve from 0.35788\n",
            "\n",
            "Epoch 38: ReduceLROnPlateau reducing learning rate to 0.0004304672533180565.\n",
            "277/277 [==============================] - 275s 995ms/step - loss: 0.3253 - acc: 0.8482 - val_loss: 0.3678 - val_acc: 0.8259 - lr: 4.7830e-04\n",
            "Epoch 39/200\n",
            "277/277 [==============================] - ETA: 0s - loss: 0.3252 - acc: 0.8481\n",
            "Epoch 39: val_loss did not improve from 0.35788\n",
            "277/277 [==============================] - 276s 997ms/step - loss: 0.3252 - acc: 0.8481 - val_loss: 0.3618 - val_acc: 0.8303 - lr: 4.3047e-04\n",
            "Epoch 40/200\n",
            "277/277 [==============================] - ETA: 0s - loss: 0.3239 - acc: 0.8491\n",
            "Epoch 40: val_loss did not improve from 0.35788\n",
            "\n",
            "Epoch 40: ReduceLROnPlateau reducing learning rate to 0.00038742052274756136.\n",
            "277/277 [==============================] - 278s 1s/step - loss: 0.3239 - acc: 0.8491 - val_loss: 0.3595 - val_acc: 0.8316 - lr: 4.3047e-04\n",
            "Epoch 40: early stopping\n"
          ]
        }
      ]
    },
    {
      "cell_type": "code",
      "source": [
        "min_val_loss = min(history.history[\"val_loss\"])\n",
        "min_train_loss = min(history.history[\"loss\"])\n",
        "max_val_acc = max(history.history[\"val_acc\"])\n",
        "max_train_acc = max(history.history[\"acc\"])\n",
        "print(\"min_train_loss=%g, min_val_loss=%g, max_train_acc=%g, max_val_acc=%g\" % (min_train_loss,min_val_loss,max_train_acc,max_val_acc))\n",
        ""
      ],
      "metadata": {
        "colab": {
          "base_uri": "https://localhost:8080/"
        },
        "id": "DULL7W3IFHoG",
        "outputId": "144735a6-f139-4c61-dae6-6e903f622aba"
      },
      "execution_count": 35,
      "outputs": [
        {
          "output_type": "stream",
          "name": "stdout",
          "text": [
            "min_train_loss=0.323898, min_val_loss=0.357878, max_train_acc=0.849131, max_val_acc=0.831647\n"
          ]
        }
      ]
    },
    {
      "cell_type": "code",
      "source": [
        "import numpy as np\n",
        "x = np.argmax(history.history[\"val_acc\"])\n",
        "print(x)"
      ],
      "metadata": {
        "colab": {
          "base_uri": "https://localhost:8080/"
        },
        "id": "nc9RPergOtoj",
        "outputId": "4f68aeca-bc7e-4cec-b390-25e67f7de9c2"
      },
      "execution_count": 45,
      "outputs": [
        {
          "output_type": "stream",
          "name": "stdout",
          "text": [
            "39\n"
          ]
        }
      ]
    },
    {
      "cell_type": "code",
      "source": [
        "from matplotlib import pyplot as plt\n",
        "plt.plot(history.history[\"loss\"],color = 'red', label = 'loss')\n",
        "plt.plot(history.history[\"val_loss\"],color = 'blue', label = 'val_loss')\n",
        "plt.title('Loss Visualisation')\n",
        "plt.xlabel('epochs')\n",
        "plt.ylabel('loss')\n",
        "plt.legend()\n",
        "plt.savefig('loss_siamese_lstm_3_with_3rd_feature.pdf',dpi=1000)\n",
        "\n",
        "from google.colab import files\n",
        "files.download('loss_siamese_lstm_3_with_3rd_feature.pdf')\n"
      ],
      "metadata": {
        "colab": {
          "base_uri": "https://localhost:8080/",
          "height": 472
        },
        "id": "0kcnRyyrFZ-k",
        "outputId": "603ac9d1-142b-4483-b702-62ccab7e073e"
      },
      "execution_count": 36,
      "outputs": [
        {
          "output_type": "display_data",
          "data": {
            "text/plain": [
              "<IPython.core.display.Javascript object>"
            ],
            "application/javascript": [
              "\n",
              "    async function download(id, filename, size) {\n",
              "      if (!google.colab.kernel.accessAllowed) {\n",
              "        return;\n",
              "      }\n",
              "      const div = document.createElement('div');\n",
              "      const label = document.createElement('label');\n",
              "      label.textContent = `Downloading \"${filename}\": `;\n",
              "      div.appendChild(label);\n",
              "      const progress = document.createElement('progress');\n",
              "      progress.max = size;\n",
              "      div.appendChild(progress);\n",
              "      document.body.appendChild(div);\n",
              "\n",
              "      const buffers = [];\n",
              "      let downloaded = 0;\n",
              "\n",
              "      const channel = await google.colab.kernel.comms.open(id);\n",
              "      // Send a message to notify the kernel that we're ready.\n",
              "      channel.send({})\n",
              "\n",
              "      for await (const message of channel.messages) {\n",
              "        // Send a message to notify the kernel that we're ready.\n",
              "        channel.send({})\n",
              "        if (message.buffers) {\n",
              "          for (const buffer of message.buffers) {\n",
              "            buffers.push(buffer);\n",
              "            downloaded += buffer.byteLength;\n",
              "            progress.value = downloaded;\n",
              "          }\n",
              "        }\n",
              "      }\n",
              "      const blob = new Blob(buffers, {type: 'application/binary'});\n",
              "      const a = document.createElement('a');\n",
              "      a.href = window.URL.createObjectURL(blob);\n",
              "      a.download = filename;\n",
              "      div.appendChild(a);\n",
              "      a.click();\n",
              "      div.remove();\n",
              "    }\n",
              "  "
            ]
          },
          "metadata": {}
        },
        {
          "output_type": "display_data",
          "data": {
            "text/plain": [
              "<IPython.core.display.Javascript object>"
            ],
            "application/javascript": [
              "download(\"download_1fc6157a-0cef-4a76-9250-f2d0692f9cf0\", \"loss_siamese_lstm_3_with_3rd_feature.pdf\", 11171)"
            ]
          },
          "metadata": {}
        },
        {
          "output_type": "display_data",
          "data": {
            "text/plain": [
              "<Figure size 640x480 with 1 Axes>"
            ],
            "image/png": "[encoded data removed]"
          },
          "metadata": {}
        }
      ]
    },
    {
      "cell_type": "code",
      "source": [
        "plt.plot(history.history[\"acc\"],color = 'red', label = 'acc')\n",
        "plt.plot(history.history[\"val_acc\"],color = 'blue', label = 'val_acc')\n",
        "plt.title('Accuracy Visualisation')\n",
        "plt.xlabel('epochs')\n",
        "plt.ylabel('accuracy')\n",
        "plt.legend()\n",
        "plt.savefig('acc_siamese_lstm_3_with_3rd_feature.pdf',dpi=1000)\n",
        "files.download('acc_siamese_lstm_3_with_3rd_feature.pdf')"
      ],
      "metadata": {
        "colab": {
          "base_uri": "https://localhost:8080/",
          "height": 472
        },
        "id": "QL1XDMExFdLt",
        "outputId": "d4c05719-8971-4e10-a546-07ed5f791ac7"
      },
      "execution_count": 38,
      "outputs": [
        {
          "output_type": "display_data",
          "data": {
            "text/plain": [
              "<IPython.core.display.Javascript object>"
            ],
            "application/javascript": [
              "\n",
              "    async function download(id, filename, size) {\n",
              "      if (!google.colab.kernel.accessAllowed) {\n",
              "        return;\n",
              "      }\n",
              "      const div = document.createElement('div');\n",
              "      const label = document.createElement('label');\n",
              "      label.textContent = `Downloading \"${filename}\": `;\n",
              "      div.appendChild(label);\n",
              "      const progress = document.createElement('progress');\n",
              "      progress.max = size;\n",
              "      div.appendChild(progress);\n",
              "      document.body.appendChild(div);\n",
              "\n",
              "      const buffers = [];\n",
              "      let downloaded = 0;\n",
              "\n",
              "      const channel = await google.colab.kernel.comms.open(id);\n",
              "      // Send a message to notify the kernel that we're ready.\n",
              "      channel.send({})\n",
              "\n",
              "      for await (const message of channel.messages) {\n",
              "        // Send a message to notify the kernel that we're ready.\n",
              "        channel.send({})\n",
              "        if (message.buffers) {\n",
              "          for (const buffer of message.buffers) {\n",
              "            buffers.push(buffer);\n",
              "            downloaded += buffer.byteLength;\n",
              "            progress.value = downloaded;\n",
              "          }\n",
              "        }\n",
              "      }\n",
              "      const blob = new Blob(buffers, {type: 'application/binary'});\n",
              "      const a = document.createElement('a');\n",
              "      a.href = window.URL.createObjectURL(blob);\n",
              "      a.download = filename;\n",
              "      div.appendChild(a);\n",
              "      a.click();\n",
              "      div.remove();\n",
              "    }\n",
              "  "
            ]
          },
          "metadata": {}
        },
        {
          "output_type": "display_data",
          "data": {
            "text/plain": [
              "<IPython.core.display.Javascript object>"
            ],
            "application/javascript": [
              "download(\"download_892c8f41-db68-40eb-af3c-417574999b37\", \"acc_siamese_lstm_3_with_3rd_feature.pdf\", 12918)"
            ]
          },
          "metadata": {}
        },
        {
          "output_type": "display_data",
          "data": {
            "text/plain": [
              "<Figure size 640x480 with 1 Axes>"
            ],
            "image/png": "[encoded data removed]"
          },
          "metadata": {}
        }
      ]
    },
    {
      "cell_type": "code",
      "source": [
        "from keras.models import load_model\n",
        "model.save('/content/lstm_model_three_.32-0.357878.hdf5')"
      ],
      "metadata": {
        "id": "2NWlE2Lb9Uo_",
        "colab": {
          "base_uri": "https://localhost:8080/"
        },
        "outputId": "55aed64a-f93e-49b3-9de5-4ca71f3a3a63"
      },
      "execution_count": 39,
      "outputs": [
        {
          "output_type": "stream",
          "name": "stderr",
          "text": [
            "/usr/local/lib/python3.10/dist-packages/keras/src/engine/training.py:3103: UserWarning: You are saving your model as an HDF5 file via `model.save()`. This file format is considered legacy. We recommend using instead the native Keras format, e.g. `model.save('my_model.keras')`.\n",
            "  saving_api.save_model(\n"
          ]
        }
      ]
    },
    {
      "cell_type": "markdown",
      "source": [
        "#Classification Report"
      ],
      "metadata": {
        "id": "wQxCN_7VI23Q"
      }
    },
    {
      "cell_type": "code",
      "source": [
        "model_predictions = model.predict([text_test_q1, text_test_q2, length_features_test])"
      ],
      "metadata": {
        "colab": {
          "base_uri": "https://localhost:8080/"
        },
        "id": "EW-BMnNPI7d8",
        "outputId": "78065c7c-f17b-4514-bf0a-12c17fb17ac4"
      },
      "execution_count": 40,
      "outputs": [
        {
          "output_type": "stream",
          "name": "stdout",
          "text": [
            "3791/3791 [==============================] - 95s 25ms/step\n"
          ]
        }
      ]
    },
    {
      "cell_type": "code",
      "source": [
        "predictions = np.zeros_like(model_predictions)\n",
        "predictions[np.arange(len(model_predictions)), model_predictions.argmax(1)] = 1"
      ],
      "metadata": {
        "id": "O-i_RCQTJBD6"
      },
      "execution_count": 41,
      "outputs": []
    },
    {
      "cell_type": "code",
      "source": [
        "from sklearn.metrics import classification_report\n",
        "print(classification_report(label_test,predictions))"
      ],
      "metadata": {
        "colab": {
          "base_uri": "https://localhost:8080/"
        },
        "id": "LjvO5_oQJFBi",
        "outputId": "18ce5cc4-3ea2-4619-d7f3-8aa561f150a8"
      },
      "execution_count": 42,
      "outputs": [
        {
          "output_type": "stream",
          "name": "stdout",
          "text": [
            "              precision    recall  f1-score   support\n",
            "\n",
            "           0       0.89      0.83      0.86     76609\n",
            "           1       0.74      0.83      0.78     44678\n",
            "\n",
            "   micro avg       0.83      0.83      0.83    121287\n",
            "   macro avg       0.82      0.83      0.82    121287\n",
            "weighted avg       0.84      0.83      0.83    121287\n",
            " samples avg       0.83      0.83      0.83    121287\n",
            "\n"
          ]
        }
      ]
    },
    {
      "cell_type": "code",
      "source": [
        "from sklearn.metrics import log_loss\n",
        "log_loss_val= log_loss(label_test,model_predictions)\n",
        "log_loss_val"
      ],
      "metadata": {
        "colab": {
          "base_uri": "https://localhost:8080/"
        },
        "id": "dqdZCm6tOFvt",
        "outputId": "4bd4c6c9-6ed3-4892-8778-686b22c56ef5"
      },
      "execution_count": 44,
      "outputs": [
        {
          "output_type": "execute_result",
          "data": {
            "text/plain": [
              "0.35949713630163105"
            ]
          },
          "metadata": {},
          "execution_count": 44
        }
      ]
    }
  ]
}